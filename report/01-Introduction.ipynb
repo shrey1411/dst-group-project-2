{
 "cells": [
  {
   "cell_type": "markdown",
   "metadata": {},
   "source": [
    "# Introduction\n",
    "\n",
    "The explosive growth of data, estimated at over 400 million terabytes generated daily [2], has made advanced analysis techniques essential across fields. While not all applications involve vast datasets, even moderate data volumes can yield significant insights when paired with scalable methods. In medicine, for instance, such techniques drive innovation in diagnostics and treatment.\n",
    "\n",
    "This project focuses on applying massively parallel data science methods to brain tumor detection, addressing the question:\n",
    "> How do neural network parameters impact performance, and how can parallelism enhance outcomes?\n",
    "\n",
    "Using a [brain tumour dataset](https://www.kaggle.com/datasets/masoudnickparvar/brain-tumor-mri-dataset) from Kaggle, consisting of approximately 7,000 images, we will study how the performance of convolutional neural networks (CNNs) is affected by its parameters. A key aspect of our approach is the use of a *spiral learning* structure (used in medicine [4]), where team members independently analyze activation functions—such as ReLU, Swish, and tanh—before combining findings to provide progressively deeper insights. This iterative framework ensures that readers can follow a logical progression to advanced analyses.\n",
    "\n",
    "To explore scalability, we first use 64 x 64 images and then upscale image dimensions to simulate the challenges of larger datasets. While the dataset is modest in size, this step mimics the conditions of big data [1] environments, where data complexity increases significantly. Leveraging GPU-based parallelism enables us to efficiently handle this escalation, providing insights into how CNNs adapt to computational demands at scale.\n",
    "\n",
    "Although our dataset size is far from \"big data\" [2], this project highlights principles critical to handling large-scale datasets. By combining structured learning with scalable computing techniques, we aim to showcase the potential of CNNs in real-world scenarios, particularly in medical imaging, where precision and scalability are paramount.\n",
    "\n",
    "# References\n",
    "\n",
    "[1] \"What is Big Data?\" *Google Cloud*. Overview of big data concepts and its applications across industries. [Link to source](https://cloud.google.com/learn/what-is-big-data)\n",
    "\n",
    "[2] \"Data Generated Per Day\" *Exploding Topics*. Insights into the staggering 400 million terabytes of data generated daily. [Link to source](https://explodingtopics.com/blog/data-generated-per-day)\n",
    "\n",
    "[3] \"10 Companies Using Big Data\" *ICAS*. Examples of how organizations leverage big data for competitive advantage. [Link to source](https://www.icas.com/news/10-companies-using-big-data)\n",
    "\n",
    "[4] \"What is a Spiral Curriculum?\" *University of Surrey*. Explanation of the spiral learning approach and its benefits in education and research. [Link to source](https://www.surrey.ac.uk/news/what-spiral-curriculum)# References\n",
    "\n",
    "[1] \"What is Big Data?\" *Google Cloud*. Overview of big data concepts and its applications across industries. [Link to source](https://cloud.google.com/learn/what-is-big-data)\n",
    "\n",
    "[2] \"Data Generated Per Day\" *Exploding Topics*. Insights into the staggering 400 million terabytes of data generated daily. [Link to source](https://explodingtopics.com/blog/data-generated-per-day)\n",
    "\n",
    "[3] \"10 Companies Using Big Data\" *ICAS*. Examples of how organizations leverage big data for competitive advantage. [Link to source](https://www.icas.com/news/10-companies-using-big-data)\n",
    "\n",
    "[4] \"What is a Spiral Curriculum?\" *University of Surrey*. Explanation of the spiral learning approach and its benefits in education and research. [Link to source](https://www.surrey.ac.uk/news/what-spiral-curriculum)\n"
   ]
  }
 ],
 "metadata": {
  "language_info": {
   "name": "python"
  }
 },
 "nbformat": 4,
 "nbformat_minor": 2
}
