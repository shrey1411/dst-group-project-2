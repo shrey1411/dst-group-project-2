{
 "cells": [
  {
   "cell_type": "markdown",
   "id": "f3c6fce9-8155-4ae6-b9b4-37b813481531",
   "metadata": {},
   "source": [
    "# Research on data sources"
   ]
  },
  {
   "cell_type": "markdown",
   "id": "69f931f4-f5cd-4f1d-a7cd-607c23f5db9b",
   "metadata": {},
   "source": [
    "Some of the interesting data sources that I found are mainly based on classification since we disucssed we would want to proceed with mostly with image classification. I was mostly interested in sports data, working with player's statistics (football), i.e., Expected goals and basic player analytics, but it did not align with our goals. I have included the link anyway. The other areas of interest were medical data (I have researched on Dental and chest X-rays) "
   ]
  },
  {
   "cell_type": "markdown",
   "id": "4916a189-72c2-4716-91d4-680bba0acf8a",
   "metadata": {},
   "source": [
    "<br>"
   ]
  },
  {
   "cell_type": "markdown",
   "id": "cb468f35-2cd2-4266-8fff-89cab97c9f8c",
   "metadata": {},
   "source": [
    "# 1. Sports"
   ]
  },
  {
   "cell_type": "markdown",
   "id": "8e98c61f-ffe1-4fec-8522-81bc02a703e9",
   "metadata": {},
   "source": [
    "# 1.1 Expected Goals & Player Analysis"
   ]
  },
  {
   "cell_type": "markdown",
   "id": "66f6f5aa-a7ab-46b2-9c9f-e2807c6ba943",
   "metadata": {},
   "source": [
    "It includes events from more than 7,000 games from the top 5 European Leagues from 2011 to 2016. I've been trying to gain insights on football analytics for a while now but couldn't find a proper dataset, until now.\n",
    "\n",
    "EDA and analysis on expected goals (xG) and a model is created to test out how xG is predicted. Then a few questions are answered about player analysis, i.e., best finisher, player with best xG rate, etc. "
   ]
  },
  {
   "cell_type": "markdown",
   "id": "f4ea66da-586e-464a-bafc-be8464fdff2d",
   "metadata": {},
   "source": [
    "https://www.kaggle.com/code/gabrielmanfredi/expected-goals-player-analysis"
   ]
  },
  {
   "cell_type": "markdown",
   "id": "2ae8614f-9af9-4bac-9fcb-b2f6898ed586",
   "metadata": {},
   "source": [
    "# 1.2 Analyzing Soccer Player Faces"
   ]
  },
  {
   "cell_type": "markdown",
   "id": "5237be3f-6c8f-4dac-987f-dcec6aa5b5d3",
   "metadata": {},
   "source": [
    "https://www.kaggle.com/code/selfishgene/analyzing-soccer-player-faces"
   ]
  },
  {
   "cell_type": "markdown",
   "id": "72548a5b-2495-452a-bcc2-39f65d5934a8",
   "metadata": {},
   "source": [
    "Approximately 600 top male and female footballers faces are analyzed using Gaussian Model. A correlation is also made between player's Age, Sex, Height and Weight and face features."
   ]
  },
  {
   "cell_type": "markdown",
   "id": "c8a634d4-8290-4dce-9630-00f546ef9dfb",
   "metadata": {},
   "source": [
    "<br>"
   ]
  },
  {
   "cell_type": "markdown",
   "id": "65f9b7a9-3bfc-49df-8a20-e40ddf0eea91",
   "metadata": {},
   "source": [
    "# 2. Medical Data"
   ]
  },
  {
   "cell_type": "markdown",
   "id": "5b8f6214-6c51-4d90-9a89-30572242bbc9",
   "metadata": {},
   "source": [
    "# 2.1 Chest X ray for Pneumonia"
   ]
  },
  {
   "cell_type": "markdown",
   "id": "fe0707c2-4e0c-47c4-9b51-a1949ad72ff8",
   "metadata": {},
   "source": [
    "https://www.kaggle.com/datasets/paultimothymooney/chest-xray-pneumonia"
   ]
  },
  {
   "cell_type": "markdown",
   "id": "c68b8975-11bb-4b39-9dc1-8c79d8b5102e",
   "metadata": {},
   "source": [
    "The dataset is organized into 3 folders (train, test, val) and contains subfolders for each image category (Pneumonia/Normal). There are 5,863 X-Ray images (JPEG) and 2 categories (Pneumonia/Normal). The code I was looking into involves detecting Pneumonia using CNN with the ReLU activation function.\n"
   ]
  },
  {
   "cell_type": "markdown",
   "id": "0d3b19d4-0900-4de7-aa67-8cd34860d1b0",
   "metadata": {},
   "source": [
    "# 2.2 Dental Detection using YOLOv8"
   ]
  },
  {
   "cell_type": "markdown",
   "id": "20265a91-528c-46b5-a9d4-328893131792",
   "metadata": {},
   "source": [
    "https://www.kaggle.com/code/nadeemkaggle123/dental-detection-using-yolov8"
   ]
  },
  {
   "cell_type": "markdown",
   "id": "7dd03b1a-ca7e-4203-b5ed-fe0e5450d1a8",
   "metadata": {},
   "source": [
    "Detecting each type of tooth, and creating a model to predict the tooth type using YOLOv8. More information about YOLOv8 [here](https://docs.ultralytics.com/#what-are-the-licensing-options-available-for-ultralytics-yolo)."
   ]
  },
  {
   "cell_type": "markdown",
   "id": "d41bed61-b48b-4962-80ba-48f2629f8f36",
   "metadata": {},
   "source": [
    "# 2.3 Chest X-ray Dataset for Tuberculosis Segmentation"
   ]
  },
  {
   "cell_type": "markdown",
   "id": "e838c14a-bbf9-43bd-bc6a-8aef608a00ae",
   "metadata": {},
   "source": [
    "https://www.kaggle.com/datasets/iamtapendu/chest-x-ray-lungs-segmentation  "
   ]
  },
  {
   "cell_type": "markdown",
   "id": "2bae6877-60bd-4607-9725-8932d030d9c9",
   "metadata": {},
   "source": [
    "Consists of 704 chest X-ray images used for training and evaluating machine learning models to predict the presence of Tuberculosis (TB) . The dataset contains both tuberculosis-positive and normal chest X-rays, along with demographic details such as gender, age, and county of origin. The images are accompanied by lung segmentation masks and clinical metadata, which makes the dataset highly suitable for deep learning applications in medical imaging."
   ]
  },
  {
   "cell_type": "markdown",
   "id": "097f78ae-e64a-4c4e-89ab-7e2860390910",
   "metadata": {},
   "source": [
    "# 2.4  Bone Break Classification Image Dataset"
   ]
  },
  {
   "cell_type": "markdown",
   "id": "5822961d-8582-4412-ae1f-ae6bf74ea079",
   "metadata": {},
   "source": [
    "https://www.kaggle.com/datasets/pkdarabi/bone-break-classification-image-dataset/data"
   ]
  },
  {
   "cell_type": "markdown",
   "id": "0f386498-1dc1-468c-9cf5-4ac1fbfb5471",
   "metadata": {},
   "source": [
    "The dataset covers a range of bone fracture classes, such as avulsion fractures, comminuted fractures, fracture-dislocations, greenstick fractures, hairline fractures, impacted fractures, longitudinal fractures, oblique fractures, pathological fractures, and spiral fractures. Automating the fracture classification process has the potential to enhance patient care and aid medical professionals in making well-informed decisions."
   ]
  },
  {
   "cell_type": "markdown",
   "id": "1b7aca53-410e-4fc8-b127-c78afd2543e0",
   "metadata": {},
   "source": [
    "<br>"
   ]
  },
  {
   "cell_type": "markdown",
   "id": "3aae00dc-09c8-4206-907f-36fc9c41ce35",
   "metadata": {},
   "source": [
    "Some other data I was interested in:"
   ]
  },
  {
   "cell_type": "markdown",
   "id": "a5ae1c31-79bf-489b-b7fb-d1a0e282eb2b",
   "metadata": {},
   "source": [
    "https://www.kaggle.com/datasets/noamsegal/affectnet-training-data/code - Facial Expressions Training Data"
   ]
  },
  {
   "cell_type": "markdown",
   "id": "2f76f1ce-2bbe-4ba4-b401-425011c7f5fc",
   "metadata": {},
   "source": [
    "https://www.kaggle.com/datasets/mostafaabla/garbage-classification - Garbage Classification (12 classes)"
   ]
  },
  {
   "cell_type": "markdown",
   "id": "6dd02efb-4a8b-4156-9976-cef997c07d73",
   "metadata": {},
   "source": [
    "Since we decided to use neural netwroks, image classification was the best bet for us and hence these seemed interesting to me."
   ]
  }
 ],
 "metadata": {
  "kernelspec": {
   "display_name": "Python 3 (ipykernel)",
   "language": "python",
   "name": "python3"
  },
  "language_info": {
   "codemirror_mode": {
    "name": "ipython",
    "version": 3
   },
   "file_extension": ".py",
   "mimetype": "text/x-python",
   "name": "python",
   "nbconvert_exporter": "python",
   "pygments_lexer": "ipython3",
   "version": "3.12.4"
  }
 },
 "nbformat": 4,
 "nbformat_minor": 5
}
